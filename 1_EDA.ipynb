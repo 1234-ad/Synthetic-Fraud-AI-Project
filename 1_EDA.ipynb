{
 "cells": [
  {
   "cell_type": "code",
   "execution_count": null,
   "id": "578834de",
   "metadata": {},
   "outputs": [],
   "source": [
    "# EDA Notebook\n",
    "\n",
    "import pandas as pd\n",
    "import matplotlib.pyplot as plt\n",
    "import seaborn as sns\n",
    "\n",
    "# Load data\n",
    "df = pd.read_csv(\"../Data/creditcard.csv\")\n",
    "\n",
    "# Show basic info\n",
    "print(df.info())\n",
    "print(df.describe())\n",
    "\n",
    "# Class distribution\n",
    "plt.figure(figsize=(6, 4))\n",
    "sns.countplot(data=df, x=\"Class\")\n",
    "plt.title(\"Class Distribution\")\n",
    "plt.xlabel(\"Class (0=Normal, 1=Fraud)\")\n",
    "plt.ylabel(\"Count\")\n",
    "plt.show()\n",
    "\n",
    "# Correlation heatmap\n",
    "corr = df.corr()\n",
    "plt.figure(figsize=(12, 10))\n",
    "sns.heatmap(corr, cmap='coolwarm', vmax=.3, center=0, square=True, linewidths=.5)\n",
    "plt.title(\"Feature Correlation Heatmap\")\n",
    "plt.show()\n"
   ]
  }
 ],
 "metadata": {
  "language_info": {
   "name": "python"
  }
 },
 "nbformat": 4,
 "nbformat_minor": 5
}
