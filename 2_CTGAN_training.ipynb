{
 "cells": [
  {
   "cell_type": "code",
   "execution_count": null,
   "id": "e6241ff6",
   "metadata": {},
   "outputs": [],
   "source": [
    "# CTGAN Training Notebook\n",
    "\n",
    "from sdv.tabular import CTGAN\n",
    "import pandas as pd\n",
    "import warnings\n",
    "warnings.filterwarnings(\"ignore\")\n",
    "\n",
    "# Load fraud class data only\n",
    "df = pd.read_csv(\"../Data/creditcard.csv\")\n",
    "fraud_data = df[df[\"Class\"] == 1].drop(columns=[\"Class\"])\n",
    "\n",
    "# Train CTGAN\n",
    "model = CTGAN(epochs=300)\n",
    "model.fit(fraud_data)\n",
    "\n",
    "# Generate 500 synthetic fraud samples\n",
    "synthetic_fraud = model.sample(500)\n",
    "synthetic_fraud[\"Class\"] = 1\n",
    "\n",
    "# Save to CSV\n",
    "synthetic_fraud.to_csv(\"../Data/synthetic_fraud.csv\", index=False)\n",
    "print(\"✅ Synthetic fraud data saved.\")\n"
   ]
  }
 ],
 "metadata": {
  "language_info": {
   "name": "python"
  }
 },
 "nbformat": 4,
 "nbformat_minor": 5
}
