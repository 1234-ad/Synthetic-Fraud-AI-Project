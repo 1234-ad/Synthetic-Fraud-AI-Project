{
 "cells": [
  {
   "cell_type": "code",
   "execution_count": null,
   "id": "569a3e9d",
   "metadata": {},
   "outputs": [],
   "source": [
    "# Visualization Notebook\n",
    "\n",
    "import pandas as pd\n",
    "from sklearn.manifold import TSNE\n",
    "import matplotlib.pyplot as plt\n",
    "\n",
    "# Load augmented data\n",
    "df = pd.read_csv(\"../Data/augmented_dataset.csv\")\n",
    "X = df.drop(\"Class\", axis=1)\n",
    "y = df[\"Class\"]\n",
    "\n",
    "# Reduce dimensionality using t-SNE\n",
    "tsne = TSNE(n_components=2, random_state=42)\n",
    "X_embedded = tsne.fit_transform(X)\n",
    "\n",
    "# Plot\n",
    "plt.figure(figsize=(10, 6))\n",
    "plt.scatter(X_embedded[:, 0], X_embedded[:, 1], c=y, cmap='coolwarm', alpha=0.6)\n",
    "plt.title(\"t-SNE Visualization of Real + Synthetic Data\")\n",
    "plt.xlabel(\"t-SNE Feature 1\")\n",
    "plt.ylabel(\"t-SNE Feature 2\")\n",
    "plt.colorbar(label=\"Class\")\n",
    "plt.show()\n"
   ]
  }
 ],
 "metadata": {
  "language_info": {
   "name": "python"
  }
 },
 "nbformat": 4,
 "nbformat_minor": 5
}
